{
 "cells": [
  {
   "cell_type": "code",
   "execution_count": 1,
   "metadata": {},
   "outputs": [
    {
     "name": "stdout",
     "output_type": "stream",
     "text": [
      "Intel MKL WARNING: Support of Intel(R) Streaming SIMD Extensions 4.2 (Intel(R) SSE4.2) enabled only processors has been deprecated. Intel oneAPI Math Kernel Library 2025.0 will require Intel(R) Advanced Vector Extensions (Intel(R) AVX) instructions.\n",
      "Intel MKL WARNING: Support of Intel(R) Streaming SIMD Extensions 4.2 (Intel(R) SSE4.2) enabled only processors has been deprecated. Intel oneAPI Math Kernel Library 2025.0 will require Intel(R) Advanced Vector Extensions (Intel(R) AVX) instructions.\n"
     ]
    }
   ],
   "source": [
    "from selenium import webdriver\n",
    "from selenium.webdriver.common.by import By\n",
    "import json\n",
    "import os\n",
    "import time\n",
    "import string\n",
    "import random\n",
    "import os.path\n",
    "import pandas as pd"
   ]
  },
  {
   "cell_type": "code",
   "execution_count": 4,
   "metadata": {},
   "outputs": [],
   "source": [
    "driver = webdriver.Firefox(executable_path=r'./geckodriver')\n",
    "driver.get('https://www.wto.org/english/news_e/pres17_e/pres17_e.htm')"
   ]
  },
  {
   "cell_type": "code",
   "execution_count": 5,
   "metadata": {},
   "outputs": [],
   "source": [
    "\n",
    "centerCol = driver.find_element(By.CLASS_NAME, 'centerCol')\n",
    "trs = centerCol.find_elements(By.TAG_NAME, 'tr')"
   ]
  },
  {
   "cell_type": "code",
   "execution_count": 6,
   "metadata": {},
   "outputs": [
    {
     "name": "stdout",
     "output_type": "stream",
     "text": [
      "Sweden donates SEK 19.2 million to help developing countries participate in global trade\n",
      "EU gives EUR 1 million to enhance trading skills of developing countries\n",
      "Lithuania donates EUR 26,000 to enhance trading capacity of developing countries\n",
      "Finland donates EUR 1.7 million to help developing countries participate in global trade\n",
      "France donates EUR 50,000 to support food safety, animal/plant health standards and trade\n",
      "United Kingdom donates GBP 100,000 to support LDCs’ participation in Ministerial Conference\n",
      "Norway donates NOK 10 million to help developing countries participate in global trade\n",
      "Canada donates CAD 100,000 to support LDCs’ participation in Ministerial Conference\n",
      "United States donates USD 600,000 to enhance negotiating skills of developing countries\n",
      "Liechtenstein donates CHF 40,000 to enhance negotiating skill-set of developing countries\n",
      "Sweden donates SEK 500,000 to support LDCs’ participation in Ministerial Conference\n",
      "Republic of Korea gives USD 350,000 to help developing countries participate in trade talks\n",
      "EU gives EUR 100,000 to help LDCs participate in Ministerial Conference\n",
      "New Zealand gives CHF 21,000 for LDCs’ effective participation in Ministerial Conference\n",
      "WTO upgrades forecast for 2017 as trade rebounds strongly\n",
      "Australia gives AUD 1.4 million to help developing countries participate in global trade\n",
      "Ireland gives EUR 350,000 to promote participation of developing countries in world trade\n",
      "Japan donates CHF 230,000 to enhance trade negotiating skills of poorest WTO members\n",
      "Germany donates EUR 150,000 to support food safety, animal/plant health standards and trade\n",
      "Canada donates CAD 200,000 to support food safety, animal/plant health standards and trade\n",
      "Germany donates EUR 1 million to help developing countries participate in trade talks\n",
      "Finland donates CHF 48,000 for LDCs’ participation in Ministerial Conference\n",
      "Joint Statement between Japan and the World Trade Organization\n",
      "Trade recovery expected in 2017 and 2018, amid policy uncertainty\n",
      "Joint press release by Federal Chancellor Angela Merkel, OECD Secretary-General Angel Gurría, IMF Managing Director Christine Lagarde, World Bank Group President Jim Yong Kim, ILO Director-General Guy Ryder and WTO Director-General Roberto Azevêdo on the occasion of their meeting in Berlin on 10 April 2017.\n",
      "WTO chairpersons for 2017\n",
      "Austria donates CHF 200,000 to strengthen negotiating capacity of poorest members\n",
      "Saudi Arabia gives USD 4 million to help lift poor countries out of poverty through trade\n",
      "Lithuania provides CHF 20,000 to help improve negotiating skills of developing countries\n",
      "Japan donates CHF 200,000 to help developing countries enhance trade negotiation skills\n"
     ]
    }
   ],
   "source": [
    "df = []\n",
    "\n",
    "for tr in trs:\n",
    "    for td in tr.find_elements(By.TAG_NAME, 'td'):\n",
    "        for x in td.find_elements(By.TAG_NAME, 'h3'):\n",
    "            # if len(x.text) > 8:\n",
    "            title = x.text\n",
    "            print(title)\n",
    "        for link in td.find_elements(By.TAG_NAME, 'a'):\n",
    "            type = link.text\n",
    "            url = link.get_attribute('href')\n",
    "            df.append([title, type, url])\n",
    "            \n",
    "df = pd.DataFrame(df, columns=['title', 'type', 'url'])"
   ]
  },
  {
   "cell_type": "code",
   "execution_count": 9,
   "metadata": {},
   "outputs": [
    {
     "data": {
      "text/plain": [
       "'Troika recommends Carvalho de Azevêdo to be the next WTO Director-General'"
      ]
     },
     "execution_count": 9,
     "metadata": {},
     "output_type": "execute_result"
    }
   ],
   "source": [
    "title"
   ]
  },
  {
   "cell_type": "code",
   "execution_count": 316,
   "metadata": {},
   "outputs": [
    {
     "data": {
      "text/plain": [
       "'WTO Director-General Lamy to seek a second term'"
      ]
     },
     "execution_count": 316,
     "metadata": {},
     "output_type": "execute_result"
    }
   ],
   "source": [
    "tr.find_element(By.TAG_NAME, 'h3').text"
   ]
  },
  {
   "cell_type": "code",
   "execution_count": 8,
   "metadata": {},
   "outputs": [
    {
     "data": {
      "text/html": [
       "<div>\n",
       "<style scoped>\n",
       "    .dataframe tbody tr th:only-of-type {\n",
       "        vertical-align: middle;\n",
       "    }\n",
       "\n",
       "    .dataframe tbody tr th {\n",
       "        vertical-align: top;\n",
       "    }\n",
       "\n",
       "    .dataframe thead th {\n",
       "        text-align: right;\n",
       "    }\n",
       "</style>\n",
       "<table border=\"1\" class=\"dataframe\">\n",
       "  <thead>\n",
       "    <tr style=\"text-align: right;\">\n",
       "      <th></th>\n",
       "      <th>title</th>\n",
       "      <th>type</th>\n",
       "      <th>url</th>\n",
       "    </tr>\n",
       "  </thead>\n",
       "  <tbody>\n",
       "    <tr>\n",
       "      <th>0</th>\n",
       "      <td>WTO report shows members moving to facilitate ...</td>\n",
       "      <td>News item</td>\n",
       "      <td>https://www.wto.org/english/news_e/news20_e/tr...</td>\n",
       "    </tr>\n",
       "    <tr>\n",
       "      <th>1</th>\n",
       "      <td>Informal Trade Policy Review Body meeting — tr...</td>\n",
       "      <td>Speech</td>\n",
       "      <td>https://www.wto.org/english/news_e/spra_e/spra...</td>\n",
       "    </tr>\n",
       "    <tr>\n",
       "      <th>2</th>\n",
       "      <td>DG Azevêdo: “We’ve achieved a lot, but much re...</td>\n",
       "      <td>Speech</td>\n",
       "      <td>https://www.wto.org/english/news_e/spra_e/spra...</td>\n",
       "    </tr>\n",
       "    <tr>\n",
       "      <th>3</th>\n",
       "      <td>DG Azevêdo: “Decisions made at the WTO will ma...</td>\n",
       "      <td>News item</td>\n",
       "      <td>https://www.wto.org/english/news_e/news20_e/tn...</td>\n",
       "    </tr>\n",
       "    <tr>\n",
       "      <th>4</th>\n",
       "      <td>WTO members meet the candidates for Director-G...</td>\n",
       "      <td>News item</td>\n",
       "      <td>https://www.wto.org/english/news_e/news20_e/dg...</td>\n",
       "    </tr>\n",
       "    <tr>\n",
       "      <th>...</th>\n",
       "      <td>...</td>\n",
       "      <td>...</td>\n",
       "      <td>...</td>\n",
       "    </tr>\n",
       "    <tr>\n",
       "      <th>737</th>\n",
       "      <td>General Council appoints Azevêdo as next Direc...</td>\n",
       "      <td>Statement by the Chairman</td>\n",
       "      <td>https://www.wto.org/audio/2013_05_14_gc_bashir...</td>\n",
       "    </tr>\n",
       "    <tr>\n",
       "      <th>738</th>\n",
       "      <td>General Council appoints Azevêdo as next Direc...</td>\n",
       "      <td>Statement by Director-General Lamy</td>\n",
       "      <td>https://www.wto.org/audio/2013_05_14_gc_lamy_s...</td>\n",
       "    </tr>\n",
       "    <tr>\n",
       "      <th>739</th>\n",
       "      <td>General Council appoints Azevêdo as next Direc...</td>\n",
       "      <td>Statement by Ambassador Azevêdo</td>\n",
       "      <td>https://www.wto.org/audio/2013_05_14_gc_azeved...</td>\n",
       "    </tr>\n",
       "    <tr>\n",
       "      <th>740</th>\n",
       "      <td>Troika recommends Carvalho de Azevêdo to be th...</td>\n",
       "      <td>Statement by the Chair of the General Council</td>\n",
       "      <td>https://www.wto.org/english/news_e/news13_e/gc...</td>\n",
       "    </tr>\n",
       "    <tr>\n",
       "      <th>741</th>\n",
       "      <td>Troika recommends Carvalho de Azevêdo to be th...</td>\n",
       "      <td>Audio: Statement by the Chair of the General C...</td>\n",
       "      <td>https://www.wto.org/audio/2013_05_08_gc_bashir...</td>\n",
       "    </tr>\n",
       "  </tbody>\n",
       "</table>\n",
       "<p>742 rows × 3 columns</p>\n",
       "</div>"
      ],
      "text/plain": [
       "                                                 title  \\\n",
       "0    WTO report shows members moving to facilitate ...   \n",
       "1    Informal Trade Policy Review Body meeting — tr...   \n",
       "2    DG Azevêdo: “We’ve achieved a lot, but much re...   \n",
       "3    DG Azevêdo: “Decisions made at the WTO will ma...   \n",
       "4    WTO members meet the candidates for Director-G...   \n",
       "..                                                 ...   \n",
       "737  General Council appoints Azevêdo as next Direc...   \n",
       "738  General Council appoints Azevêdo as next Direc...   \n",
       "739  General Council appoints Azevêdo as next Direc...   \n",
       "740  Troika recommends Carvalho de Azevêdo to be th...   \n",
       "741  Troika recommends Carvalho de Azevêdo to be th...   \n",
       "\n",
       "                                                  type  \\\n",
       "0                                            News item   \n",
       "1                                               Speech   \n",
       "2                                               Speech   \n",
       "3                                            News item   \n",
       "4                                            News item   \n",
       "..                                                 ...   \n",
       "737                          Statement by the Chairman   \n",
       "738                 Statement by Director-General Lamy   \n",
       "739                    Statement by Ambassador Azevêdo   \n",
       "740      Statement by the Chair of the General Council   \n",
       "741  Audio: Statement by the Chair of the General C...   \n",
       "\n",
       "                                                   url  \n",
       "0    https://www.wto.org/english/news_e/news20_e/tr...  \n",
       "1    https://www.wto.org/english/news_e/spra_e/spra...  \n",
       "2    https://www.wto.org/english/news_e/spra_e/spra...  \n",
       "3    https://www.wto.org/english/news_e/news20_e/tn...  \n",
       "4    https://www.wto.org/english/news_e/news20_e/dg...  \n",
       "..                                                 ...  \n",
       "737  https://www.wto.org/audio/2013_05_14_gc_bashir...  \n",
       "738  https://www.wto.org/audio/2013_05_14_gc_lamy_s...  \n",
       "739  https://www.wto.org/audio/2013_05_14_gc_azeved...  \n",
       "740  https://www.wto.org/english/news_e/news13_e/gc...  \n",
       "741  https://www.wto.org/audio/2013_05_08_gc_bashir...  \n",
       "\n",
       "[742 rows x 3 columns]"
      ]
     },
     "execution_count": 8,
     "metadata": {},
     "output_type": "execute_result"
    }
   ],
   "source": [
    "df"
   ]
  },
  {
   "cell_type": "code",
   "execution_count": null,
   "metadata": {},
   "outputs": [],
   "source": [
    "path = os.path.abspath(f'../WTO_data_article/')\n",
    "# print csv files in path\n",
    "for file in os.listdir(path):\n",
    "    print(file)\n",
    "    "
   ]
  }
 ],
 "metadata": {
  "kernelspec": {
   "display_name": "python39",
   "language": "python",
   "name": "python3"
  },
  "language_info": {
   "codemirror_mode": {
    "name": "ipython",
    "version": 3
   },
   "file_extension": ".py",
   "mimetype": "text/x-python",
   "name": "python",
   "nbconvert_exporter": "python",
   "pygments_lexer": "ipython3",
   "version": "3.9.17"
  }
 },
 "nbformat": 4,
 "nbformat_minor": 2
}
