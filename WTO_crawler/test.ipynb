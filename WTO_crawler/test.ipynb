{
 "cells": [
  {
   "cell_type": "code",
   "execution_count": 1,
   "metadata": {},
   "outputs": [
    {
     "name": "stdout",
     "output_type": "stream",
     "text": [
      "Intel MKL WARNING: Support of Intel(R) Streaming SIMD Extensions 4.2 (Intel(R) SSE4.2) enabled only processors has been deprecated. Intel oneAPI Math Kernel Library 2025.0 will require Intel(R) Advanced Vector Extensions (Intel(R) AVX) instructions.\n",
      "Intel MKL WARNING: Support of Intel(R) Streaming SIMD Extensions 4.2 (Intel(R) SSE4.2) enabled only processors has been deprecated. Intel oneAPI Math Kernel Library 2025.0 will require Intel(R) Advanced Vector Extensions (Intel(R) AVX) instructions.\n"
     ]
    }
   ],
   "source": [
    "from selenium import webdriver\n",
    "from selenium.webdriver.common.by import By\n",
    "from selenium.webdriver.firefox.options import Options\n",
    "from selenium.webdriver.support.ui import WebDriverWait\n",
    "from selenium.webdriver.support import expected_conditions as EC\n",
    "import json\n",
    "import os\n",
    "import time\n",
    "import string\n",
    "import random\n",
    "import os.path\n",
    "import pandas as pd\n",
    "import requests\n",
    "from bs4 import BeautifulSoup\n",
    "import re"
   ]
  },
  {
   "cell_type": "code",
   "execution_count": 3,
   "metadata": {},
   "outputs": [
    {
     "name": "stdout",
     "output_type": "stream",
     "text": [
      "/Users/ycchen/voxgov/WTO_crawler/WTO_data_article\n"
     ]
    }
   ],
   "source": [
    "# set path WTO_data_article\n",
    "path = os.path.abspath('../WTO_data_article')\n",
    "print(path)"
   ]
  },
  {
   "cell_type": "code",
   "execution_count": 3,
   "metadata": {},
   "outputs": [
    {
     "name": "stdout",
     "output_type": "stream",
     "text": [
      "all_article_content\n",
      "category unique: 0\n",
      "News_archives\n",
      "category unique: 9842\n",
      ".DS_Store\n"
     ]
    },
    {
     "ename": "NotADirectoryError",
     "evalue": "[Errno 20] Not a directory: '/Users/ycchen/voxgov/WTO_crawler/WTO_data_article/.DS_Store'",
     "output_type": "error",
     "traceback": [
      "\u001b[0;31m---------------------------------------------------------------------------\u001b[0m",
      "\u001b[0;31mNotADirectoryError\u001b[0m                        Traceback (most recent call last)",
      "\u001b[1;32m/Users/ycchen/voxgov/WTO_crawler/WTO_crawler/test.ipynb Cell 3\u001b[0m line \u001b[0;36m6\n\u001b[1;32m      <a href='vscode-notebook-cell:/Users/ycchen/voxgov/WTO_crawler/WTO_crawler/test.ipynb#X23sZmlsZQ%3D%3D?line=2'>3</a>\u001b[0m \u001b[39mprint\u001b[39m(folder)\n\u001b[1;32m      <a href='vscode-notebook-cell:/Users/ycchen/voxgov/WTO_crawler/WTO_crawler/test.ipynb#X23sZmlsZQ%3D%3D?line=3'>4</a>\u001b[0m sub_urls \u001b[39m=\u001b[39m \u001b[39mset\u001b[39m()\n\u001b[0;32m----> <a href='vscode-notebook-cell:/Users/ycchen/voxgov/WTO_crawler/WTO_crawler/test.ipynb#X23sZmlsZQ%3D%3D?line=5'>6</a>\u001b[0m \u001b[39mfor\u001b[39;00m file \u001b[39min\u001b[39;00m os\u001b[39m.\u001b[39;49mlistdir(path \u001b[39m+\u001b[39;49m \u001b[39m'\u001b[39;49m\u001b[39m/\u001b[39;49m\u001b[39m'\u001b[39;49m \u001b[39m+\u001b[39;49m folder):\n\u001b[1;32m      <a href='vscode-notebook-cell:/Users/ycchen/voxgov/WTO_crawler/WTO_crawler/test.ipynb#X23sZmlsZQ%3D%3D?line=6'>7</a>\u001b[0m     \u001b[39m# print(file)\u001b[39;00m\n\u001b[1;32m      <a href='vscode-notebook-cell:/Users/ycchen/voxgov/WTO_crawler/WTO_crawler/test.ipynb#X23sZmlsZQ%3D%3D?line=7'>8</a>\u001b[0m     data \u001b[39m=\u001b[39m pd\u001b[39m.\u001b[39mread_csv(path \u001b[39m+\u001b[39m \u001b[39m'\u001b[39m\u001b[39m/\u001b[39m\u001b[39m'\u001b[39m \u001b[39m+\u001b[39m folder \u001b[39m+\u001b[39m \u001b[39m'\u001b[39m\u001b[39m/\u001b[39m\u001b[39m'\u001b[39m \u001b[39m+\u001b[39m file)\n\u001b[1;32m      <a href='vscode-notebook-cell:/Users/ycchen/voxgov/WTO_crawler/WTO_crawler/test.ipynb#X23sZmlsZQ%3D%3D?line=8'>9</a>\u001b[0m     sub_urls \u001b[39m=\u001b[39m sub_urls\u001b[39m.\u001b[39munion(\u001b[39mset\u001b[39m(data[\u001b[39m'\u001b[39m\u001b[39murl\u001b[39m\u001b[39m'\u001b[39m]))\n",
      "\u001b[0;31mNotADirectoryError\u001b[0m: [Errno 20] Not a directory: '/Users/ycchen/voxgov/WTO_crawler/WTO_data_article/.DS_Store'"
     ]
    }
   ],
   "source": [
    "all_urls = set()\n",
    "for folder in os.listdir(path):\n",
    "    print(folder)\n",
    "    sub_urls = set()\n",
    "\n",
    "    for file in os.listdir(path + '/' + folder):\n",
    "        # print(file)\n",
    "        data = pd.read_csv(path + '/' + folder + '/' + file)\n",
    "        sub_urls = sub_urls.union(set(data['url']))\n",
    "        all_urls = all_urls.union(set(data['url']))\n",
    "    print('category unique:', len(sub_urls))\n",
    "print('total unique:', len(all_urls))"
   ]
  },
  {
   "cell_type": "code",
   "execution_count": 118,
   "metadata": {},
   "outputs": [
    {
     "name": "stdout",
     "output_type": "stream",
     "text": [
      "all_article_content\n",
      "News_archives\n",
      ".DS_Store\n",
      "Subject_archives\n",
      "Press_releases\n",
      "DG_speeches\n"
     ]
    }
   ],
   "source": [
    "all_urls = set()\n",
    "for folder in os.listdir(path):\n",
    "    print(folder)\n",
    "    # sub_urls = set()\n",
    "\n",
    "    # for file in os.listdir(path + '/' + folder):\n",
    "    #     if '.DS_Store' not in file:\n",
    "    #         print(file)"
   ]
  },
  {
   "cell_type": "code",
   "execution_count": 8,
   "metadata": {},
   "outputs": [],
   "source": [
    "url = 'https://www.wto.org/english/blogs_e/ddg_anabel_gonzalez_e/blog_ag_06dec21_e.htm'\n",
    "options = Options()\n",
    "options.headless = True\n",
    "driver = webdriver.Firefox(executable_path=r'../geckodriver', options=options)\n",
    "driver.get(url)"
   ]
  },
  {
   "cell_type": "code",
   "execution_count": 22,
   "metadata": {},
   "outputs": [],
   "source": [
    "title = driver.find_element(By.ID, 'blogtitle').text\n",
    "abstract = None\n",
    "label = None\n",
    "date = driver.find_element(By.ID, 'blogpostdate').text\n",
    "content = driver.find_element(By.ID, 'blogtext').text"
   ]
  },
  {
   "cell_type": "code",
   "execution_count": 25,
   "metadata": {},
   "outputs": [
    {
     "data": {
      "text/plain": [
       "['https://www.reuters.com/business/wto-seeks-deals-early-2022-despite-postponing-major-meeting-2021-11-30/',\n",
       " 'https://docs.wto.org/dol2fe/Pages/SS/directdoc.aspx?filename=q:/INF/SDR/1.pdf&Open=True',\n",
       " 'https://www.wto.org/english/news_e/news21_e/jssdr_26nov21_e.htm',\n",
       " 'https://www.wto.org/english/news_e/news21_e/ita_02dec21_e.htm',\n",
       " 'https://www.wto.org/english/tratop_e/gproc_e/gp_gpa_e.htm',\n",
       " 'https://docs.wto.org/dol2fe/Pages/SS/directdoc.aspx?filename=q:/WT/MIN21/W5.pdf&Open=True',\n",
       " 'https://docs.wto.org/dol2fe/Pages/SS/directdoc.aspx?filename=q:/WT/MIN21/W5A1.pdf&Open=True',\n",
       " 'https://www.wto.org/english/news_e/news21_e/hod_02dec21_e.htm']"
      ]
     },
     "execution_count": 25,
     "metadata": {},
     "output_type": "execute_result"
    }
   ],
   "source": [
    "[a.get_attribute('href') for a in driver.find_element(By.ID, 'blogtext').find_elements(By.TAG_NAME, 'a')]"
   ]
  },
  {
   "cell_type": "code",
   "execution_count": 8,
   "metadata": {},
   "outputs": [
    {
     "data": {
      "text/plain": [
       "'WTO PUBLIC FORUM'"
      ]
     },
     "execution_count": 8,
     "metadata": {},
     "output_type": "execute_result"
    }
   ],
   "source": [
    "label"
   ]
  },
  {
   "cell_type": "code",
   "execution_count": 132,
   "metadata": {},
   "outputs": [
    {
     "data": {
      "text/plain": [
       "['https://www.wto.org/english/forums_e/public_forum16_e/public_forum16_e.htm',\n",
       " 'mailto:pf16@wto.org']"
      ]
     },
     "execution_count": 132,
     "metadata": {},
     "output_type": "execute_result"
    }
   ],
   "source": [
    "outboundLinks = [a.get_attribute('href') for a in driver.find_element(By.CLASS_NAME, 'centerCol').find_elements(By.TAG_NAME, 'a')]\n",
    "outboundLinks"
   ]
  },
  {
   "cell_type": "code",
   "execution_count": 130,
   "metadata": {},
   "outputs": [],
   "source": [
    "for outboundLink in outboundLinks[:-5]:\n",
    "    if 'javascript' in outboundLink:\n",
    "        linkdoldoc = re.search(r\"'(.*?)'\", outboundLink)[1]\n",
    "        outboundLink = f'https://docs.wto.org/dol2fe/Pages/SS/directdoc.aspx?filename=q:{linkdoldoc}&Open=True'\n",
    "    print(outboundLink)"
   ]
  },
  {
   "cell_type": "code",
   "execution_count": 111,
   "metadata": {},
   "outputs": [],
   "source": [
    "def extract_linkdoldoc(outboundLink):\n",
    "    if 'javascript' in outboundLink:\n",
    "        linkdoldoc = re.search(r\"'(.*?)'\", outboundLink)[1]\n",
    "        outboundLink = f'https://docs.wto.org/dol2fe/Pages/SS/directdoc.aspx?filename=q:{linkdoldoc}&Open=True'\n",
    "    return outboundLink\n",
    "\n",
    "\n",
    "outboundLinks = [extract_linkdoldoc(outboundLink) for outboundLink in outboundLinks[:-5]]"
   ]
  },
  {
   "cell_type": "code",
   "execution_count": 131,
   "metadata": {},
   "outputs": [
    {
     "data": {
      "text/plain": [
       "['https://www.wto.org/english/forums_e/public_forum16_e/public_forum16_e.htm',\n",
       " 'mailto:pf16@wto.org']"
      ]
     },
     "execution_count": 131,
     "metadata": {},
     "output_type": "execute_result"
    }
   ],
   "source": [
    "outboundLinks"
   ]
  },
  {
   "cell_type": "code",
   "execution_count": 135,
   "metadata": {},
   "outputs": [],
   "source": [
    "outboundLinksText = [a.text for a in driver.find_element(By.CLASS_NAME, 'centerCol').find_elements(By.TAG_NAME, 'a')]"
   ]
  },
  {
   "cell_type": "code",
   "execution_count": 136,
   "metadata": {},
   "outputs": [
    {
     "data": {
      "text/plain": [
       "['www.wto.org/pf16', 'pf16@wto.org']"
      ]
     },
     "execution_count": 136,
     "metadata": {},
     "output_type": "execute_result"
    }
   ],
   "source": [
    "outboundLinksText"
   ]
  },
  {
   "cell_type": "code",
   "execution_count": 126,
   "metadata": {},
   "outputs": [
    {
     "ename": "TypeError",
     "evalue": "'set' object is not subscriptable",
     "output_type": "error",
     "traceback": [
      "\u001b[0;31m---------------------------------------------------------------------------\u001b[0m",
      "\u001b[0;31mTypeError\u001b[0m                                 Traceback (most recent call last)",
      "\u001b[1;32m/Users/ycchen/voxgov/WTO_crawler/WTO_crawler/test.ipynb Cell 13\u001b[0m line \u001b[0;36m2\n\u001b[1;32m      <a href='vscode-notebook-cell:/Users/ycchen/voxgov/WTO_crawler/WTO_crawler/test.ipynb#X43sZmlsZQ%3D%3D?line=0'>1</a>\u001b[0m articleDict \u001b[39m=\u001b[39m {url}\n\u001b[0;32m----> <a href='vscode-notebook-cell:/Users/ycchen/voxgov/WTO_crawler/WTO_crawler/test.ipynb#X43sZmlsZQ%3D%3D?line=1'>2</a>\u001b[0m articleDict[url]\u001b[39m.\u001b[39mupdate({\u001b[39m'\u001b[39m\u001b[39mdate\u001b[39m\u001b[39m'\u001b[39m: date, \n\u001b[1;32m      <a href='vscode-notebook-cell:/Users/ycchen/voxgov/WTO_crawler/WTO_crawler/test.ipynb#X43sZmlsZQ%3D%3D?line=2'>3</a>\u001b[0m                     \u001b[39m'\u001b[39m\u001b[39mlabel\u001b[39m\u001b[39m'\u001b[39m: label, \n\u001b[1;32m      <a href='vscode-notebook-cell:/Users/ycchen/voxgov/WTO_crawler/WTO_crawler/test.ipynb#X43sZmlsZQ%3D%3D?line=3'>4</a>\u001b[0m                     \u001b[39m'\u001b[39m\u001b[39mabstract\u001b[39m\u001b[39m'\u001b[39m: abstract, \n\u001b[1;32m      <a href='vscode-notebook-cell:/Users/ycchen/voxgov/WTO_crawler/WTO_crawler/test.ipynb#X43sZmlsZQ%3D%3D?line=4'>5</a>\u001b[0m                     \u001b[39m'\u001b[39m\u001b[39mtitle\u001b[39m\u001b[39m'\u001b[39m: title, \n\u001b[1;32m      <a href='vscode-notebook-cell:/Users/ycchen/voxgov/WTO_crawler/WTO_crawler/test.ipynb#X43sZmlsZQ%3D%3D?line=5'>6</a>\u001b[0m                     \u001b[39m'\u001b[39m\u001b[39mcontent\u001b[39m\u001b[39m'\u001b[39m: content, \n\u001b[1;32m      <a href='vscode-notebook-cell:/Users/ycchen/voxgov/WTO_crawler/WTO_crawler/test.ipynb#X43sZmlsZQ%3D%3D?line=6'>7</a>\u001b[0m                     \u001b[39m'\u001b[39m\u001b[39moutboundLinks\u001b[39m\u001b[39m'\u001b[39m: outboundLinks, \n\u001b[1;32m      <a href='vscode-notebook-cell:/Users/ycchen/voxgov/WTO_crawler/WTO_crawler/test.ipynb#X43sZmlsZQ%3D%3D?line=7'>8</a>\u001b[0m                     \u001b[39m'\u001b[39m\u001b[39moutboundLinksText\u001b[39m\u001b[39m'\u001b[39m: outboundLinksText})\n\u001b[1;32m      <a href='vscode-notebook-cell:/Users/ycchen/voxgov/WTO_crawler/WTO_crawler/test.ipynb#X43sZmlsZQ%3D%3D?line=8'>9</a>\u001b[0m articleDict\n",
      "\u001b[0;31mTypeError\u001b[0m: 'set' object is not subscriptable"
     ]
    }
   ],
   "source": [
    "articleDict = {url}\n",
    "articleDict[url].update({'date': date, \n",
    "                    'label': label, \n",
    "                    'abstract': abstract, \n",
    "                    'title': title, \n",
    "                    'content': content, \n",
    "                    'outboundLinks': outboundLinks, \n",
    "                    'outboundLinksText': outboundLinksText})\n",
    "articleDict"
   ]
  },
  {
   "cell_type": "code",
   "execution_count": null,
   "metadata": {},
   "outputs": [],
   "source": []
  },
  {
   "cell_type": "code",
   "execution_count": null,
   "metadata": {},
   "outputs": [],
   "source": []
  },
  {
   "cell_type": "code",
   "execution_count": 5,
   "metadata": {},
   "outputs": [],
   "source": [
    "\n",
    "centerCol = driver.find_element(By.CLASS_NAME, 'centerCol')\n",
    "trs = centerCol.find_elements(By.TAG_NAME, 'tr')"
   ]
  },
  {
   "cell_type": "code",
   "execution_count": 6,
   "metadata": {},
   "outputs": [
    {
     "name": "stdout",
     "output_type": "stream",
     "text": [
      "Sweden donates SEK 19.2 million to help developing countries participate in global trade\n",
      "EU gives EUR 1 million to enhance trading skills of developing countries\n",
      "Lithuania donates EUR 26,000 to enhance trading capacity of developing countries\n",
      "Finland donates EUR 1.7 million to help developing countries participate in global trade\n",
      "France donates EUR 50,000 to support food safety, animal/plant health standards and trade\n",
      "United Kingdom donates GBP 100,000 to support LDCs’ participation in Ministerial Conference\n",
      "Norway donates NOK 10 million to help developing countries participate in global trade\n",
      "Canada donates CAD 100,000 to support LDCs’ participation in Ministerial Conference\n",
      "United States donates USD 600,000 to enhance negotiating skills of developing countries\n",
      "Liechtenstein donates CHF 40,000 to enhance negotiating skill-set of developing countries\n",
      "Sweden donates SEK 500,000 to support LDCs’ participation in Ministerial Conference\n",
      "Republic of Korea gives USD 350,000 to help developing countries participate in trade talks\n",
      "EU gives EUR 100,000 to help LDCs participate in Ministerial Conference\n",
      "New Zealand gives CHF 21,000 for LDCs’ effective participation in Ministerial Conference\n",
      "WTO upgrades forecast for 2017 as trade rebounds strongly\n",
      "Australia gives AUD 1.4 million to help developing countries participate in global trade\n",
      "Ireland gives EUR 350,000 to promote participation of developing countries in world trade\n",
      "Japan donates CHF 230,000 to enhance trade negotiating skills of poorest WTO members\n",
      "Germany donates EUR 150,000 to support food safety, animal/plant health standards and trade\n",
      "Canada donates CAD 200,000 to support food safety, animal/plant health standards and trade\n",
      "Germany donates EUR 1 million to help developing countries participate in trade talks\n",
      "Finland donates CHF 48,000 for LDCs’ participation in Ministerial Conference\n",
      "Joint Statement between Japan and the World Trade Organization\n",
      "Trade recovery expected in 2017 and 2018, amid policy uncertainty\n",
      "Joint press release by Federal Chancellor Angela Merkel, OECD Secretary-General Angel Gurría, IMF Managing Director Christine Lagarde, World Bank Group President Jim Yong Kim, ILO Director-General Guy Ryder and WTO Director-General Roberto Azevêdo on the occasion of their meeting in Berlin on 10 April 2017.\n",
      "WTO chairpersons for 2017\n",
      "Austria donates CHF 200,000 to strengthen negotiating capacity of poorest members\n",
      "Saudi Arabia gives USD 4 million to help lift poor countries out of poverty through trade\n",
      "Lithuania provides CHF 20,000 to help improve negotiating skills of developing countries\n",
      "Japan donates CHF 200,000 to help developing countries enhance trade negotiation skills\n"
     ]
    }
   ],
   "source": [
    "df = []\n",
    "\n",
    "for tr in trs:\n",
    "    for td in tr.find_elements(By.TAG_NAME, 'td'):\n",
    "        for x in td.find_elements(By.TAG_NAME, 'h3'):\n",
    "            # if len(x.text) > 8:\n",
    "            title = x.text\n",
    "            print(title)\n",
    "        for link in td.find_elements(By.TAG_NAME, 'a'):\n",
    "            type = link.text\n",
    "            url = link.get_attribute('href')\n",
    "            df.append([title, type, url])\n",
    "            \n",
    "df = pd.DataFrame(df, columns=['title', 'type', 'url'])"
   ]
  },
  {
   "cell_type": "code",
   "execution_count": 9,
   "metadata": {},
   "outputs": [
    {
     "data": {
      "text/plain": [
       "'Troika recommends Carvalho de Azevêdo to be the next WTO Director-General'"
      ]
     },
     "execution_count": 9,
     "metadata": {},
     "output_type": "execute_result"
    }
   ],
   "source": [
    "title"
   ]
  },
  {
   "cell_type": "code",
   "execution_count": 119,
   "metadata": {},
   "outputs": [
    {
     "name": "stdout",
     "output_type": "stream",
     "text": [
      "there are already 0 articles in the json file\n",
      "0 articles to go\n"
     ]
    }
   ],
   "source": [
    "if not os.path.exists(f'../WTO_data_article/all_article_content.json'):\n",
    "    with open(path + '/all_article_content.json', 'w') as fp:\n",
    "        json.dump({}, fp)\n",
    "    fp.close()\n",
    "else:\n",
    "    with open(path + '/all_article_content.json', 'r') as fp:\n",
    "        all_article_content = json.load(fp)\n",
    "        print(f'there are already {len(all_article_content)} articles in the json file')\n",
    "        print(f'{len(all_urls) - len(all_article_content)} articles to go')\n",
    "    fp.close()"
   ]
  },
  {
   "cell_type": "code",
   "execution_count": 121,
   "metadata": {},
   "outputs": [
    {
     "data": {
      "text/plain": [
       "dict_keys([])"
      ]
     },
     "execution_count": 121,
     "metadata": {},
     "output_type": "execute_result"
    }
   ],
   "source": [
    "all_article_content.keys()"
   ]
  },
  {
   "cell_type": "code",
   "execution_count": 122,
   "metadata": {},
   "outputs": [],
   "source": [
    "for url in all_urls:\n",
    "    if url in all_article_content.keys() or url == None:\n",
    "        continue\n",
    "    else:\n",
    "        print(url)"
   ]
  },
  {
   "cell_type": "code",
   "execution_count": 123,
   "metadata": {},
   "outputs": [
    {
     "data": {
      "text/plain": [
       "set()"
      ]
     },
     "execution_count": 123,
     "metadata": {},
     "output_type": "execute_result"
    }
   ],
   "source": [
    "all_urls"
   ]
  },
  {
   "cell_type": "code",
   "execution_count": 137,
   "metadata": {},
   "outputs": [
    {
     "name": "stdout",
     "output_type": "stream",
     "text": [
      "2023-12-20 20:59:15\n"
     ]
    }
   ],
   "source": [
    "# print current time\n",
    "print(time.strftime(\"%Y-%m-%d %H:%M:%S\", time.localtime()))"
   ]
  },
  {
   "cell_type": "code",
   "execution_count": 24,
   "metadata": {},
   "outputs": [
    {
     "name": "stdout",
     "output_type": "stream",
     "text": [
      "1\n"
     ]
    }
   ],
   "source": [
    "# print a random number from 1 to 5\n",
    "print(random.randint(1, 5))"
   ]
  },
  {
   "cell_type": "code",
   "execution_count": 46,
   "metadata": {},
   "outputs": [],
   "source": [
    "# open the browser and get the page\n",
    "options = Options()\n",
    "options.headless = True\n",
    "driver = webdriver.Firefox(executable_path=r'../geckodriver', options=options)\n",
    "\n",
    "main_url = 'https://www.wto.org/english/news_e/news_e.htm#'\n",
    "driver.get(main_url)"
   ]
  },
  {
   "cell_type": "code",
   "execution_count": 50,
   "metadata": {},
   "outputs": [],
   "source": [
    "TreeviewSpanArea = driver.find_elements(By.CLASS_NAME, 'TreeviewSpanArea')[1]"
   ]
  },
  {
   "cell_type": "code",
   "execution_count": 70,
   "metadata": {},
   "outputs": [],
   "source": [
    "targetMenuLst = ['News archives', 'Press releases', 'DG speeches', 'Subject archives']"
   ]
  },
  {
   "cell_type": "code",
   "execution_count": 67,
   "metadata": {},
   "outputs": [
    {
     "data": {
      "text/plain": [
       "<selenium.webdriver.firefox.webelement.FirefoxWebElement (session=\"8911b63f-1a69-4445-a81f-85497d2de597\", element=\"d3503f5e-f35a-401c-8f37-8db4a65bface\")>"
      ]
     },
     "execution_count": 67,
     "metadata": {},
     "output_type": "execute_result"
    }
   ],
   "source": []
  },
  {
   "cell_type": "code",
   "execution_count": 63,
   "metadata": {},
   "outputs": [],
   "source": [
    "subMenu = TreeviewSpanArea.find_elements(By.TAG_NAME, 'a')"
   ]
  },
  {
   "cell_type": "code",
   "execution_count": 72,
   "metadata": {},
   "outputs": [],
   "source": [
    "subMenuText = [subMenuText.get_attribute('text') for subMenuText in subMenu]\n",
    "subMenuUrl = [subMenuUrl.get_attribute('href') for subMenuUrl in subMenu]"
   ]
  },
  {
   "cell_type": "code",
   "execution_count": 80,
   "metadata": {},
   "outputs": [],
   "source": [
    "# targetMenuUrlDict = dict(zip(subMenuText, subMenuUrl))\n",
    "targetMenuUrlDict = {}\n",
    "targetMenu_idx = 0\n",
    "idx = 0\n",
    "\n",
    "for url in subMenuUrl:\n",
    "    if url == main_url:\n",
    "        targetMenu = targetMenuLst[targetMenu_idx]\n",
    "        targetMenuUrlDict.update({targetMenu:{}})\n",
    "        targetMenu_idx += 1\n",
    "        idx += 1\n",
    "        continue\n",
    "    \n",
    "    targetMenuUrlDict[targetMenu].update({subMenuText[idx]: subMenuUrl[idx]})\n",
    "    idx += 1"
   ]
  },
  {
   "cell_type": "code",
   "execution_count": 77,
   "metadata": {},
   "outputs": [],
   "source": [
    "targetMenuUrlDict = {}\n",
    "targetMenuUrlDict.update({targetMenuLst[0]:{}})"
   ]
  },
  {
   "cell_type": "code",
   "execution_count": 83,
   "metadata": {},
   "outputs": [
    {
     "data": {
      "text/plain": [
       "dict_keys(['25th anniversary of the WTO', 'Accessions', 'Agriculture', 'Agriculture negotiations', 'Aid for Trade', 'Aid for Trade Global Review 2019', 'Aid for Trade Global Review 2022', 'Anti-dumping', 'Appellate Body', 'Balance of payments', 'Business, trade and the WTO', 'Climate change', 'COP27', 'COP28', 'Cotton', 'Council for Trade in Goods', 'COVID-19 and world trade', 'Customs valuation', 'Deputy Director-General Angela Ellard', 'Deputy Director-General Jean-Marie Paugam', 'Deputy Director-General Johanna Hill', 'Deputy Director-General Xiangchen Zhang', 'Deputy Directors-General', 'Deputy Directors-General under Pascal Lamy', 'Deputy Directors-General under Roberto Azevêdo', 'Dialogue on plastics pollution and environmentally sustainable plastics trade', 'Digital technologies and trade', 'Director-General Ngozi Okonjo-Iweala', 'Director-General selection process', 'Dispute settlement', 'Dispute Settlement Body', 'Doha Development Agenda', 'Economic research', 'Electronic commerce', 'Eleventh WTO Ministerial Conference', 'Enhanced Integrated Framework', 'Essay Award for Young Economists', 'Fisheries Funding Mechanism', 'Food security', 'Former Deputy Director-General Anabel González', 'Former Director-General Roberto Azevêdo', 'Fossil fuel subsidy reform', 'General Council', 'Global Value Chains', 'Government procurement', 'Graduating from status of least-developed country (LDC)', 'Implementation and monitoring', 'Import licensing', 'Informal Working Group on Micro, Small and Medium-sized Enterprises (MSMEs)', 'Informal Working Group on Trade and Gender', 'Information for students and young professionals', 'Information Technology Agreement', 'Intellectual property', 'International trade statistics', 'Investment facilitation for development', 'Joint initiative on e-commerce', 'Joint WTO, ITC and UNCTAD initiative on Cotton by-products', 'Least-developed countries (LDCs)', 'Market access for goods', 'MC12 follow-up', 'Micro, small and medium-sized enterprises (MSMEs)', 'Ministerial conferences', 'Negotiations on fisheries subsidies', 'NGOs', 'Non-agricultural market access negotiations', 'Parliamentarians', 'Plurilateral agreement on trade in civil aircraft', 'Presidential Lecture Series', 'Publications', 'Quantitative restrictions', 'Regional trade agreements', 'Rules negotiations', 'Rules of origin', 'Safeguard measures', 'Sanitary and phytosanitary measures', 'Services', 'Services domestic regulation', 'Services negotiations', 'Short-term merchandise trade statistics', 'Short-term trade in commercial services statistics', 'Subsidies and countervailing measures', 'Sustainable Development Goals', 'Tariffs', 'Technical assistance', 'Technical barriers to trade', 'Thirteenth WTO Ministerial Conference', 'Trade and development', 'Trade and environment', 'Trade and environmental sustainability structured discussions', 'Trade and investment', 'Trade Dialogues', 'Trade facilitation', 'Trade finance', 'Trade for Peace', 'Trade monitoring', 'Trade monitoring — Joint reports on G-20 trade and investment measures', 'Trade monitoring — WTO-wide reports on trade-related developments', 'Trade Negotiations Committee', 'Trade Policy Review Mechanism', 'Trade-Related Investment Measures (TRIMs)', 'TRIPS and public health', 'Twelfth WTO Ministerial Conference', 'Women and trade', 'Work Programme on E-Commerce', 'Work programme on food security', 'Working Group on Trade and Transfer of Technology', 'World Trade Congress on Gender', 'WTO and other organizations', 'WTO Chairs Programme', 'WTO Open Day', 'WTO Public Forum', 'WTO Public Forum 2021', 'WTO Public Forum 2022', 'WTO Public Forum 2023', 'WTO Reform', 'WTO trade barometers', 'WTO trade forecasts', 'WTO training courses', 'WTO video', 'Young Professionals Programme'])"
      ]
     },
     "execution_count": 83,
     "metadata": {},
     "output_type": "execute_result"
    }
   ],
   "source": [
    "targetMenuUrlDict['Subject archives'].keys()"
   ]
  },
  {
   "cell_type": "code",
   "execution_count": null,
   "metadata": {},
   "outputs": [],
   "source": []
  }
 ],
 "metadata": {
  "kernelspec": {
   "display_name": "python39",
   "language": "python",
   "name": "python3"
  },
  "language_info": {
   "codemirror_mode": {
    "name": "ipython",
    "version": 3
   },
   "file_extension": ".py",
   "mimetype": "text/x-python",
   "name": "python",
   "nbconvert_exporter": "python",
   "pygments_lexer": "ipython3",
   "version": "3.9.17"
  }
 },
 "nbformat": 4,
 "nbformat_minor": 2
}
